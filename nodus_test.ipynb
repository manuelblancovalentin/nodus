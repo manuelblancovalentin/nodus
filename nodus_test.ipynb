{
 "cells": [
  {
   "cell_type": "code",
   "execution_count": 1,
   "metadata": {},
   "outputs": [
    {
     "name": "stderr",
     "output_type": "stream",
     "text": [
      "-- Date: 05/Jan/2025\n",
      "╭───────┬─────────────╮\n",
      "╰ INFO ─┤ 13:37:53.43 │ - Nodus initialized\n",
      "        │ 13:37:53.43 │ - Nodus version: 0.1.0\n",
      "        │ 13:37:53.45 │ - Nodus imported\n",
      "        │ 13:37:53.45 │ - JobManager imported\n",
      "        │ 13:37:53.45 │ - Nodus ready to use\n"
     ]
    },
    {
     "name": "stdout",
     "output_type": "stream",
     "text": [
      "\u001b[48;2;141;47;102m\u001b[48;2;141;47;102m \u001b[48;2;117;39;85m \u001b[48;2;94;31;68m \u001b[48;2;70;23;51m \u001b[48;2;46;15;33m \u001b[48;2;23;7;17m \u001b[48;2;0;0;0m \u001b[48;2;23;7;17m \u001b[48;2;46;15;33m \u001b[48;2;70;23;51m \u001b[48;2;94;31;68m \u001b[48;2;117;39;85m \u001b[48;2;141;47;102m      \u001b[48;2;249;230;207m ▖▚▗▗▖▞▗▚   ▜ ▜  \u001b[0m\n",
      "\u001b[48;2;141;47;102m\u001b[48;2;141;47;102m \u001b[48;2;117;39;85m \u001b[48;2;94;31;68m \u001b[48;2;70;23;51m𐌍\u001b[48;2;46;15;33m \u001b[48;2;23;7;17m↠\u001b[48;2;0;0;0m⌾\u001b[48;2;23;7;17m↞\u001b[48;2;46;15;33m \u001b[48;2;70;23;51m𐌃\u001b[48;2;94;31;68m \u001b[48;2;117;39;85m𐌖\u001b[48;2;141;47;102m 𐌔    \u001b[48;2;250;198;122m    ▗    ▞▖ ▙▙   \u001b[0m\n",
      "\u001b[48;2;141;47;102m\u001b[48;2;141;47;102m \u001b[48;2;117;39;85m \u001b[48;2;94;31;68m \u001b[48;2;70;23;51m \u001b[48;2;46;15;33m \u001b[48;2;23;7;17m \u001b[48;2;0;0;0m \u001b[48;2;23;7;17m \u001b[48;2;46;15;33m \u001b[48;2;70;23;51m \u001b[48;2;94;31;68m \u001b[48;2;117;39;85m \u001b[48;2;141;47;102m      \u001b[48;2;250;198;122m ▗ ▞ ▙▖  ▛ ▝  ▛▗ \u001b[0m\n",
      "\n",
      "Logging to file: /Users/mbvalentin/.nodus/nodus_20250105_133753.log\n"
     ]
    }
   ],
   "source": [
    "\"\"\" Imports \"\"\"\n",
    "import sys\n",
    "# Append the path to wsbmr \n",
    "sys.path.append('/Users/manuelbv/scripts/nodus/nodus')\n",
    "\n",
    "# Import wsbmr\n",
    "import nodus"
   ]
  },
  {
   "cell_type": "code",
   "execution_count": 2,
   "metadata": {},
   "outputs": [
    {
     "name": "stderr",
     "output_type": "stream",
     "text": [
      "        │ 13:37:53.60 │ - Created jobs table in NodusDB instance 'nodus_db'\n",
      "        │ 13:37:53.61 │ - Added NodusDB instance 'nodus_db' linked to database '/Users/mbvalentin/.nodus/nodus.db'\n",
      "        │ 13:37:53.61 │ - Job 33 created.\n",
      "        │ 13:37:53.61 │ - Job 33 log path updated to /Users/mbvalentin/.nodus/logs/nodus/737eac7f-58c2-4630-a97e-d5e04b0aec1a/job_command_33_example_job.log.\n",
      "        │ 13:37:53.62 │ - Marker file created for job 33: /var/folders/6b/p_271rqj4psdknf2z079285c0000gn/T/nodus_737eac7f-58c2-4630-a97e-d5e04b0aec1a_33_start\n",
      "        │ 13:37:53.68 │ - Command Job 33 started with PID: 56802\n",
      "        │ 13:37:53.68 │ - Job 33 started with PID: 56802\n"
     ]
    },
    {
     "name": "stderr",
     "output_type": "stream",
     "text": [
      "╭───────┼─────────────┤\n",
      "╰ INFO ─┤ 13:38:04.65 │ - Marker file created for job 33: /var/folders/6b/p_271rqj4psdknf2z079285c0000gn/T/nodus_737eac7f-58c2-4630-a97e-d5e04b0aec1a_33_end\n",
      "        │ 13:38:04.66 │ - Job 33 status updated to completed and PID to 56802*.\n"
     ]
    }
   ],
   "source": [
    "import time \n",
    "\n",
    "# Create Nodus Session\n",
    "session = nodus.NodusSession()\n",
    "db = session.add_nodus_db()  # Add a default NodusDB instance\n",
    "\n",
    "# Get the JobManager from the db instance\n",
    "jm = db.job_manager\n",
    "\n",
    "# Initialize the command\n",
    "nodus_command = \"bash -c 'for i in {1..10}; do echo Step $i; sleep 1; done'\"\n",
    "\n",
    "# Create a new job to run the command\n",
    "job_id = jm.create_job(\n",
    "    name=\"example_job\",\n",
    "    parent_caller=\"example_command_runner\",\n",
    "    job_type=\"command\",\n",
    "    command = nodus_command\n",
    ")\n",
    "\n",
    "# Let the JobManager monitor jobs (in practice, your UI would run alongside this)\n",
    "# while True:\n",
    "#     time.sleep(1)  # Keep the main thread alive\n"
   ]
  },
  {
   "cell_type": "code",
   "execution_count": 3,
   "metadata": {},
   "outputs": [
    {
     "name": "stderr",
     "output_type": "stream",
     "text": [
      "╭───────┼─────────────┤\n",
      "╰ BMK ──┤ 13:37:55.01 │ - algo\n",
      "        │ 13:37:55.01 │ - algomas\n"
     ]
    }
   ],
   "source": [
    "nodus.__logger__.custom('BMK', 'algo')\n",
    "nodus.__logger__.custom('BMK', 'algomas')"
   ]
  },
  {
   "cell_type": "code",
   "execution_count": 4,
   "metadata": {},
   "outputs": [
    {
     "name": "stderr",
     "output_type": "stream",
     "text": [
      "╭───────┼─────────────┤\n",
      "╰ MDL ──┤ 13:38:07.72 │ - algo\n",
      "        │ 13:38:07.72 │ - algomas\n"
     ]
    }
   ],
   "source": [
    "nodus.__logger__.custom('MDL', 'algo')\n",
    "nodus.__logger__.custom('MDL', 'algomas')"
   ]
  },
  {
   "cell_type": "code",
   "execution_count": null,
   "metadata": {},
   "outputs": [],
   "source": [
    "# Close connection\n",
    "session.close()"
   ]
  },
  {
   "cell_type": "code",
   "execution_count": null,
   "metadata": {},
   "outputs": [],
   "source": []
  }
 ],
 "metadata": {
  "kernelspec": {
   "display_name": "nodus",
   "language": "python",
   "name": "python3"
  },
  "language_info": {
   "codemirror_mode": {
    "name": "ipython",
    "version": 3
   },
   "file_extension": ".py",
   "mimetype": "text/x-python",
   "name": "python",
   "nbconvert_exporter": "python",
   "pygments_lexer": "ipython3",
   "version": "3.10.16"
  }
 },
 "nbformat": 4,
 "nbformat_minor": 2
}
