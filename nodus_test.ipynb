{
 "cells": [
  {
   "cell_type": "code",
   "execution_count": null,
   "metadata": {},
   "outputs": [],
   "source": [
    "\"\"\" Imports \"\"\"\n",
    "import sys\n",
    "# Append the path to wsbmr \n",
    "sys.path.append('/Users/manuelbv/scripts/nodus/nodus')\n",
    "\n",
    "# Import wsbmr\n",
    "import nodus"
   ]
  },
  {
   "cell_type": "code",
   "execution_count": null,
   "metadata": {},
   "outputs": [],
   "source": [
    "# Create Nodus Session\n",
    "session = nodus.NodusSession()\n",
    "db = session.add_nodus_db()  # Add a default NodusDB instance\n",
    "\n",
    "# Get the JobManager from the db instance\n",
    "jm = db.job_manager\n",
    "\n",
    "# Initialize the command\n",
    "nodus_command = \"bash -c 'for i in {1..10}; do echo Step $i; sleep 1; done'\"\n",
    "\n",
    "# Create a new job to run the command\n",
    "job_id, job = jm.create_job(\n",
    "    name=\"standalone_command\",\n",
    "    parent_caller=\"example_command_runner\",\n",
    "    job_type=\"command\",\n",
    "    command = nodus_command\n",
    ")\n",
    "\n",
    "\"\"\" Wait for job to finish \"\"\"\n",
    "jm.wait_for_job_completion(job_id)"
   ]
  },
  {
   "cell_type": "code",
   "execution_count": null,
   "metadata": {},
   "outputs": [],
   "source": [
    "\"\"\" Create some jobs with dependencies \"\"\"\n",
    "# Create Job A\n",
    "job_a_id, job_a = jm.create_job(\n",
    "    name=\"job_a\",\n",
    "    parent_caller=\"example_command_runner\",\n",
    "    job_type=\"command\",\n",
    "    command = nodus_command\n",
    ")\n",
    "\n",
    "# Create Job B\n",
    "job_b_id, job_b = jm.create_job(\n",
    "    name=\"job_b\",\n",
    "    parent_caller=\"example_command_runner\",\n",
    "    job_type=\"command\",\n",
    "    command = nodus_command,\n",
    "    dependencies=[job_a_id]\n",
    ")\n",
    "\n",
    "# Create Job C\n",
    "job_c_id, job_c = jm.create_job(\n",
    "    name=\"job_c\",\n",
    "    parent_caller=\"example_command_runner\",\n",
    "    job_type=\"command\",\n",
    "    command = nodus_command,\n",
    "    dependencies=[job_a_id]\n",
    ")\n",
    "\n",
    "# Create Job D that depends on Job B and Job C\n",
    "job_d_id, job_d = jm.create_job(\n",
    "    name=\"job_d\",\n",
    "    parent_caller=\"example_command_runner\",\n",
    "    job_type=\"command\",\n",
    "    command = nodus_command,\n",
    "    dependencies=[job_b_id, job_c_id]\n",
    ")\n",
    "\n",
    "\"\"\" Wait for job to finish \"\"\"\n",
    "jm.wait_for_job_completion(job_d_id)"
   ]
  },
  {
   "cell_type": "code",
   "execution_count": null,
   "metadata": {},
   "outputs": [],
   "source": [
    "# Close connection\n",
    "session.close()"
   ]
  }
 ],
 "metadata": {
  "kernelspec": {
   "display_name": "nodus",
   "language": "python",
   "name": "python3"
  },
  "language_info": {
   "codemirror_mode": {
    "name": "ipython",
    "version": 3
   },
   "file_extension": ".py",
   "mimetype": "text/x-python",
   "name": "python",
   "nbconvert_exporter": "python",
   "pygments_lexer": "ipython3",
   "version": "3.10.16"
  }
 },
 "nbformat": 4,
 "nbformat_minor": 2
}
