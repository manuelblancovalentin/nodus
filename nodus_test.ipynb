{
 "cells": [
  {
   "cell_type": "code",
   "execution_count": 1,
   "metadata": {},
   "outputs": [
    {
     "name": "stdout",
     "output_type": "stream",
     "text": [
      "\u001b[48;2;141;47;102m\u001b[48;2;141;47;102m \u001b[48;2;117;39;85m \u001b[48;2;94;31;68m \u001b[48;2;70;23;51m \u001b[48;2;46;15;33m \u001b[48;2;23;7;17m \u001b[48;2;0;0;0m \u001b[48;2;23;7;17m \u001b[48;2;46;15;33m \u001b[48;2;70;23;51m \u001b[48;2;94;31;68m \u001b[48;2;117;39;85m \u001b[48;2;141;47;102m      \u001b[48;2;249;230;207m  ▚ ▛▚ ▚ ▗  ▖▖▙▙ \u001b[0m\n",
      "\u001b[48;2;141;47;102m\u001b[48;2;141;47;102m \u001b[48;2;117;39;85m \u001b[48;2;94;31;68m \u001b[48;2;70;23;51m𐌍\u001b[48;2;46;15;33m \u001b[48;2;23;7;17m↠\u001b[48;2;0;0;0m⌾\u001b[48;2;23;7;17m↞\u001b[48;2;46;15;33m \u001b[48;2;70;23;51m𐌃\u001b[48;2;94;31;68m \u001b[48;2;117;39;85m𐌖\u001b[48;2;141;47;102m 𐌔    \u001b[48;2;250;198;122m   ▗ ▙▘▖  ▛ ▗ ▙▜ \u001b[0m\n",
      "\u001b[48;2;141;47;102m\u001b[48;2;141;47;102m \u001b[48;2;117;39;85m \u001b[48;2;94;31;68m \u001b[48;2;70;23;51m \u001b[48;2;46;15;33m \u001b[48;2;23;7;17m \u001b[48;2;0;0;0m \u001b[48;2;23;7;17m \u001b[48;2;46;15;33m \u001b[48;2;70;23;51m \u001b[48;2;94;31;68m \u001b[48;2;117;39;85m \u001b[48;2;141;47;102m      \u001b[48;2;250;198;122m ▝    ▚   ▜▘   ▝ \u001b[0m\n",
      "\n",
      "Logging to file: /Users/mbvalentin/.nodus/nodus_20250106_130516.log\n"
     ]
    },
    {
     "name": "stderr",
     "output_type": "stream",
     "text": [
      "-- Date: 06/Jan/2025\n",
      "╭───────┬─────────────╮\n",
      "╰ INFO ─┤ 13:05:16.64 │ - Nodus initialized\n",
      "        │ 13:05:16.64 │ - Nodus version: 0.1.0\n",
      "        │ 13:05:16.66 │ - Nodus imported\n",
      "        │ 13:05:16.66 │ - Jobs imported\n",
      "        │ 13:05:16.66 │ - JobManager imported\n",
      "        │ 13:05:16.66 │ - Nodus ready to use\n"
     ]
    }
   ],
   "source": [
    "\"\"\" Imports \"\"\"\n",
    "import sys\n",
    "# Append the path to wsbmr \n",
    "sys.path.append('/Users/manuelbv/scripts/nodus/nodus')\n",
    "\n",
    "# Import wsbmr\n",
    "import nodus"
   ]
  },
  {
   "cell_type": "code",
   "execution_count": 2,
   "metadata": {},
   "outputs": [
    {
     "name": "stderr",
     "output_type": "stream",
     "text": [
      "        │ 13:05:24.72 │ - Created jobs table in NodusDB instance 'nodus_db'\n",
      "        │ 13:05:24.72 │ - Created job_dependencies table in NodusDB instance 'nodus_db'\n",
      "        │ 13:05:24.73 │ - Added NodusDB instance 'nodus_db' linked to database '/Users/mbvalentin/.nodus/nodus.db'\n",
      "        │ 13:05:24.73 │ - Job 41 created.\n",
      "        │ 13:05:24.73 │ - Job 41 log path updated to /Users/mbvalentin/.nodus/logs/nodus/c8bf7ed0-30e4-42ce-84dc-d2ac95142fd7/job_command_41_example_job.log.\n",
      "        │ 13:05:24.73 │ - Marker file created for job 41: /var/folders/6b/p_271rqj4psdknf2z079285c0000gn/T/nodus_c8bf7ed0-30e4-42ce-84dc-d2ac95142fd7_41_start\n",
      "        │ 13:05:24.73 │ - Command Job 41 started with PID: 92249\n",
      "        │ 13:05:24.74 │ - Job 41 started with PID: 92249\n",
      "        │ 13:05:35.77 │ - Marker file created for job 41: /var/folders/6b/p_271rqj4psdknf2z079285c0000gn/T/nodus_c8bf7ed0-30e4-42ce-84dc-d2ac95142fd7_41_end\n",
      "        │ 13:05:35.77 │ - Job 41 status updated to completed and PID to 92249*.\n"
     ]
    },
    {
     "data": {
      "text/plain": [
       "{'job_id': 41,\n",
       " 'nodus_session_id': 'c8bf7ed0-30e4-42ce-84dc-d2ac95142fd7',\n",
       " 'parent_caller': 'example_command_runner',\n",
       " 'job_name': 'example_job',\n",
       " 'status': 'completed',\n",
       " 'timestamp': '2025-01-06 13:05:24',\n",
       " 'completion_time': '2025-01-06 13:05:35',\n",
       " 'log_path': '/Users/mbvalentin/.nodus/logs/nodus/c8bf7ed0-30e4-42ce-84dc-d2ac95142fd7/job_command_41_example_job.log',\n",
       " 'pid': '92249*',\n",
       " 'config': None}"
      ]
     },
     "execution_count": 2,
     "metadata": {},
     "output_type": "execute_result"
    }
   ],
   "source": [
    "import time \n",
    "\n",
    "# Create Nodus Session\n",
    "session = nodus.NodusSession()\n",
    "db = session.add_nodus_db()  # Add a default NodusDB instance\n",
    "\n",
    "# Get the JobManager from the db instance\n",
    "jm = db.job_manager\n",
    "\n",
    "# Initialize the command\n",
    "nodus_command = \"bash -c 'for i in {1..10}; do echo Step $i; sleep 1; done'\"\n",
    "\n",
    "# Create a new job to run the command\n",
    "job_id, job = jm.create_job(\n",
    "    name=\"example_job\",\n",
    "    parent_caller=\"example_command_runner\",\n",
    "    job_type=\"command\",\n",
    "    command = nodus_command\n",
    ")\n",
    "\n",
    "\"\"\" Wait for job to finish \"\"\"\n",
    "jm.wait_for_job_completion(job_id)"
   ]
  },
  {
   "cell_type": "code",
   "execution_count": null,
   "metadata": {},
   "outputs": [],
   "source": [
    "# Close connection\n",
    "session.close()"
   ]
  },
  {
   "cell_type": "code",
   "execution_count": null,
   "metadata": {},
   "outputs": [],
   "source": []
  }
 ],
 "metadata": {
  "kernelspec": {
   "display_name": "nodus",
   "language": "python",
   "name": "python3"
  },
  "language_info": {
   "codemirror_mode": {
    "name": "ipython",
    "version": 3
   },
   "file_extension": ".py",
   "mimetype": "text/x-python",
   "name": "python",
   "nbconvert_exporter": "python",
   "pygments_lexer": "ipython3",
   "version": "3.10.16"
  }
 },
 "nbformat": 4,
 "nbformat_minor": 2
}
