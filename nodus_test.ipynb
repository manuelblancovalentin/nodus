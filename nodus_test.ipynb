{
 "cells": [
  {
   "cell_type": "code",
   "execution_count": 1,
   "metadata": {},
   "outputs": [
    {
     "name": "stderr",
     "output_type": "stream",
     "text": [
      "-- Date: 27/Dec/2024\n",
      "╭───────┬─────────────╮\n",
      "╰ INFO ─┤ 23:01:26.35 │ - Nodus initialized\n",
      "        │ 23:01:26.35 │ - Nodus version: 0.1.0\n",
      "        │ 23:01:26.36 │ - Nodus imported\n",
      "        │ 23:01:26.36 │ - JobManager imported\n",
      "        │ 23:01:26.36 │ - Nodus ready to use\n"
     ]
    },
    {
     "name": "stdout",
     "output_type": "stream",
     "text": [
      "\u001b[48;2;141;47;102m\u001b[48;2;141;47;102m \u001b[48;2;117;39;85m \u001b[48;2;94;31;68m \u001b[48;2;70;23;51m \u001b[48;2;46;15;33m \u001b[48;2;23;7;17m \u001b[48;2;0;0;0m \u001b[48;2;23;7;17m \u001b[48;2;46;15;33m \u001b[48;2;70;23;51m \u001b[48;2;94;31;68m \u001b[48;2;117;39;85m \u001b[48;2;141;47;102m      \u001b[48;2;249;230;207m ▘  ▖ ▚▛         \u001b[0m\n",
      "\u001b[48;2;141;47;102m\u001b[48;2;141;47;102m \u001b[48;2;117;39;85m \u001b[48;2;94;31;68m \u001b[48;2;70;23;51m𐌍\u001b[48;2;46;15;33m \u001b[48;2;23;7;17m↠\u001b[48;2;0;0;0m⌾\u001b[48;2;23;7;17m↞\u001b[48;2;46;15;33m \u001b[48;2;70;23;51m𐌃\u001b[48;2;94;31;68m \u001b[48;2;117;39;85m𐌖\u001b[48;2;141;47;102m 𐌔    \u001b[48;2;250;198;122m  ▘ ▗  ▗▖ ▚ ▗    \u001b[0m\n",
      "\u001b[48;2;141;47;102m\u001b[48;2;141;47;102m \u001b[48;2;117;39;85m \u001b[48;2;94;31;68m \u001b[48;2;70;23;51m \u001b[48;2;46;15;33m \u001b[48;2;23;7;17m \u001b[48;2;0;0;0m \u001b[48;2;23;7;17m \u001b[48;2;46;15;33m \u001b[48;2;70;23;51m \u001b[48;2;94;31;68m \u001b[48;2;117;39;85m \u001b[48;2;141;47;102m      \u001b[48;2;250;198;122m  ▞▜▝  ▞ ▖  ▞▗▙▚ \u001b[0m\n",
      "\n",
      "Logging to file: /Users/mbvalentin/.nodus/nodus_20241227_230126.log\n"
     ]
    }
   ],
   "source": [
    "\"\"\" Imports \"\"\"\n",
    "import sys\n",
    "# Append the path to wsbmr \n",
    "sys.path.append('/Users/manuelbv/scripts/nodus/nodus')\n",
    "\n",
    "# Import wsbmr\n",
    "import nodus"
   ]
  },
  {
   "cell_type": "code",
   "execution_count": 3,
   "metadata": {},
   "outputs": [
    {
     "name": "stderr",
     "output_type": "stream",
     "text": [
      "        │ 23:01:39.89 │ - Created jobs table in NodusDB instance 'nodus_db'\n",
      "        │ 23:01:39.89 │ - Added NodusDB instance 'nodus_db' linked to database '/Users/mbvalentin/.nodus/nodus.db'\n",
      "        │ 23:01:39.89 │ - Job 30 created.\n",
      "        │ 23:01:39.89 │ - Job 30 log path updated to /Users/mbvalentin/.nodus/logs/nodus/1b380de9-2339-4169-a130-bddebe129468/job_command_30_example_job.log.\n",
      "        │ 23:01:39.89 │ - Marker file created for job 30: /var/folders/6b/p_271rqj4psdknf2z079285c0000gn/T/nodus_1b380de9-2339-4169-a130-bddebe129468_30_start\n",
      "        │ 23:01:39.90 │ - Command Job 30 started with PID: 91840\n",
      "        │ 23:01:39.91 │ - Job 30 started with PID: 91840\n",
      "        │ 23:01:50.94 │ - Marker file created for job 30: /var/folders/6b/p_271rqj4psdknf2z079285c0000gn/T/nodus_1b380de9-2339-4169-a130-bddebe129468_30_end\n",
      "        │ 23:01:50.94 │ - Job 30 status updated to completed and PID to 91840*.\n"
     ]
    },
    {
     "ename": "KeyboardInterrupt",
     "evalue": "",
     "output_type": "error",
     "traceback": [
      "\u001b[0;31m---------------------------------------------------------------------------\u001b[0m",
      "\u001b[0;31mKeyboardInterrupt\u001b[0m                         Traceback (most recent call last)",
      "Cell \u001b[0;32mIn[3], line 23\u001b[0m\n\u001b[1;32m     21\u001b[0m \u001b[38;5;66;03m# Let the JobManager monitor jobs (in practice, your UI would run alongside this)\u001b[39;00m\n\u001b[1;32m     22\u001b[0m \u001b[38;5;28;01mwhile\u001b[39;00m \u001b[38;5;28;01mTrue\u001b[39;00m:\n\u001b[0;32m---> 23\u001b[0m     \u001b[43mtime\u001b[49m\u001b[38;5;241;43m.\u001b[39;49m\u001b[43msleep\u001b[49m\u001b[43m(\u001b[49m\u001b[38;5;241;43m1\u001b[39;49m\u001b[43m)\u001b[49m\n",
      "\u001b[0;31mKeyboardInterrupt\u001b[0m: "
     ]
    }
   ],
   "source": [
    "import time \n",
    "\n",
    "# Create Nodus Session\n",
    "session = nodus.NodusSession()\n",
    "db = session.add_nodus_db()  # Add a default NodusDB instance\n",
    "\n",
    "# Get the JobManager from the db instance\n",
    "jm = db.job_manager\n",
    "\n",
    "# Initialize the command\n",
    "nodus_command = \"bash -c 'for i in {1..10}; do echo Step $i; sleep 1; done'\"\n",
    "\n",
    "# Create a new job to run the command\n",
    "job_id = jm.create_job(\n",
    "    name=\"example_job\",\n",
    "    parent_caller=\"example_command_runner\",\n",
    "    job_type=\"command\",\n",
    "    command = nodus_command\n",
    ")\n",
    "\n",
    "# Let the JobManager monitor jobs (in practice, your UI would run alongside this)\n",
    "while True:\n",
    "    time.sleep(1)  # Keep the main thread alive\n"
   ]
  },
  {
   "cell_type": "code",
   "execution_count": 4,
   "metadata": {},
   "outputs": [
    {
     "name": "stderr",
     "output_type": "stream",
     "text": [
      "        │ 23:01:58.32 │ - Closed NodusDB instance 'nodus_db'\n"
     ]
    }
   ],
   "source": [
    "# Close connection\n",
    "session.close()"
   ]
  },
  {
   "cell_type": "code",
   "execution_count": null,
   "metadata": {},
   "outputs": [],
   "source": []
  }
 ],
 "metadata": {
  "kernelspec": {
   "display_name": "nodus",
   "language": "python",
   "name": "python3"
  },
  "language_info": {
   "codemirror_mode": {
    "name": "ipython",
    "version": 3
   },
   "file_extension": ".py",
   "mimetype": "text/x-python",
   "name": "python",
   "nbconvert_exporter": "python",
   "pygments_lexer": "ipython3",
   "version": "3.10.16"
  }
 },
 "nbformat": 4,
 "nbformat_minor": 2
}
